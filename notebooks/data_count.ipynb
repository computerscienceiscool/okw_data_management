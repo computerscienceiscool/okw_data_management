{
 "cells": [
  {
   "cell_type": "markdown",
   "id": "31d8ced8-ae7a-4307-b28a-18579fa72514",
   "metadata": {},
   "source": [
    "<img src=\"https://pbs.twimg.com/profile_images/1092394418135539713/eplLRcDN_400x400.jpg\" width=80px style=\"text-align:right\"><h1>The Internet of Production Alliance </h1>\n",
    "\n",
    "## Data collection program for the [OKW, Map of facilities](https://www.internetofproduction.org/open-know-where)\n"
   ]
  },
  {
   "cell_type": "markdown",
   "id": "5857e0f3-5b93-4aca-987e-0ee90827c8bc",
   "metadata": {
    "tags": []
   },
   "source": [
    "Author: Antonio de Jesus Anaya Hernandez, DevOps eng. for the IoPA.\n",
    "\n",
    "Author: The internet of Production Alliance, 2024.\n",
    "\n",
    "Data was collected by: \n",
    "\n",
    "1. \"The Fab Foundation, FabLab Network and its partners\", URL location: https://api.fablabs.io/0/labs.json\n",
    "2. \"Make Works, FabLab Barcelona and its partners\", URL location: https://make.works/companies\n",
    "3. \"Offene Werkstaetten, and its partners\", URL location: https://www.offene-werkstaetten.org/de/werkstatt-suche\n",
    "4. \"Field Ready Inc. and its partners\", URL location: sftp://acc1079413848@access804698569.webspace-data.io/raw_fieldready_input_2022.csv\n",
    "\n",
    "The Open Know Where (OKW) Initiative is part of the Internet of Production Alliance and its members.\n",
    "\n",
    "License: CC BY SA\n",
    "\n",
    "![CC BY SA](https://mirrors.creativecommons.org/presskit/buttons/88x31/svg/by-sa.svg)\n",
    "\n",
    "Description: Python code reading the processed IOPA data, determine the country and region by reversed geocoding, and count the total records.\n",
    "\n",
    "Rev 0, 01/16/2024"
   ]
  },
  {
   "cell_type": "code",
   "execution_count": 1,
   "id": "1dea2990-b539-48d1-b33c-521933db2b17",
   "metadata": {
    "tags": []
   },
   "outputs": [],
   "source": [
    "import pandas as pd\n",
    "import math"
   ]
  },
  {
   "cell_type": "code",
   "execution_count": 2,
   "id": "93ee3864-0af8-40a5-b4e2-4964017c50e6",
   "metadata": {
    "tags": []
   },
   "outputs": [],
   "source": [
    "countries_geo = pd.read_csv('countries.csv')\n",
    "# on later version this line will be replaced by a data validation and normalization data output csv file.\n",
    "sources = ['iopa_fablabsio_output_2023_11_30_0850.csv', 'iopa_make_works_output_2023_11_30_0625.csv', 'iopa_offene_output_2023_11_30_0306.csv', 'raw_fieldready_input_2022.csv']"
   ]
  },
  {
   "cell_type": "code",
   "execution_count": 3,
   "id": "bd88bc9b-26b4-4e86-84a7-a74be7952b89",
   "metadata": {
    "tags": []
   },
   "outputs": [],
   "source": [
    "regions = {}\n",
    "countries = {}\n",
    "points = {}"
   ]
  },
  {
   "cell_type": "code",
   "execution_count": 4,
   "id": "e26a23a5-de79-4e28-ba23-e106397cc6d1",
   "metadata": {
    "tags": []
   },
   "outputs": [],
   "source": [
    "for file in sources:\n",
    "    points[file] = pd.read_csv(file).dropna(subset = ['latitude', 'longitude'])\n",
    "\n",
    "def d(x1, y1, x2, y2):\n",
    "    return math.sqrt((x2 - x1)**2 + (y2 - y1)**2)"
   ]
  },
  {
   "cell_type": "code",
   "execution_count": 5,
   "id": "ff94032b-ca1a-42c9-8f90-4587d37aaa26",
   "metadata": {
    "tags": []
   },
   "outputs": [
    {
     "name": "stdout",
     "output_type": "stream",
     "text": [
      "(1879, 15)\n",
      "{'Europe': 845, 'Asia': 367, 'Americas': 555, 'Africa': 93, 'Oceania': 19}\n",
      "1879\n",
      "(303, 14)\n",
      "{'Europe': 1098, 'Asia': 416, 'Americas': 556, 'Africa': 93, 'Oceania': 19}\n",
      "2182\n",
      "(482, 11)\n",
      "{'Europe': 1580, 'Asia': 416, 'Americas': 556, 'Africa': 93, 'Oceania': 19}\n",
      "2664\n",
      "(9498, 65)\n",
      "{'Europe': 1580, 'Asia': 1587, 'Americas': 556, 'Africa': 8420, 'Oceania': 19}\n",
      "12162\n"
     ]
    }
   ],
   "source": [
    "for file in points.values():\n",
    "    print(file.shape)\n",
    "    for key, record in file.iterrows():\n",
    "        dr = float('inf')\n",
    "        \n",
    "        for ckey, country in countries_geo.iterrows():\n",
    "            dn = d(record['latitude'], record['longitude'], country['latitude'], country['longitude'])\n",
    "\n",
    "            if dn < dr:\n",
    "                dr = dn\n",
    "                region = country['region']\n",
    "                country_name = country['name']\n",
    "            else:\n",
    "                dr = dr\n",
    "                region = region\n",
    "                country_name = country_name\n",
    "        try:\n",
    "            countries[country_name] += 1\n",
    "        except KeyError:\n",
    "            if not country_name == None:\n",
    "                countries[country_name] = 1\n",
    "            \n",
    "        try:\n",
    "            regions[region] += 1\n",
    "        except KeyError:\n",
    "            if not region == None:\n",
    "                regions[region] = 1\n",
    "\n",
    "                \n",
    "    print(regions)\n",
    "    print(sum(regions.values()))"
   ]
  },
  {
   "cell_type": "code",
   "execution_count": 11,
   "id": "0000ec32-3ee3-476e-9d30-dc56a672e385",
   "metadata": {
    "tags": []
   },
   "outputs": [
    {
     "name": "stdout",
     "output_type": "stream",
     "text": [
      "[('Uganda', 6708), ('Kenya', 1595), ('Bangladesh', 1049), ('Germany', 192), ('Czech Republic', 139), ('Man (Isle of)', 136), ('United States', 128), ('Iraq', 114), ('Paraguay', 102), ('United Kingdom', 99), ('Belgium', 81), ('Liechtenstein', 74), ('Austria', 73), ('Andorra', 68), ('Denmark', 68), ('Switzerland', 63), ('Luxembourg', 61), ('France', 60), ('Bermuda', 59), ('United Arab Emirates', 56), ('Netherlands', 50), ('Mexico', 49), ('Monaco', 47), ('South Korea', 43), ('Georgia', 37), ('Peru', 34), ('San Marino', 33), ('Vatican City State (Holy See)', 31), ('Spain', 29), ('Portugal', 29), ('Djibouti', 29), ('Jersey', 27), ('Philippines', 26), ('Sri Lanka', 25), ('The Bahamas', 23), ('India', 22), ('Uruguay', 22), ('Taiwan', 22), ('Ukraine', 21), ('Kuwait', 19), ('Brazil', 18), ('Egypt', 18), ('Chile', 18), ('Japan', 16), ('Iceland', 15), ('Bulgaria', 15), ('Malta', 15), ('Palestinian Territory Occupied', 13), ('Italy', 13), ('Guernsey and Alderney', 13), ('Greece', 12), ('Poland', 11), ('Gibraltar', 11), ('Singapore', 11), ('Hong Kong S.A.R.', 10), ('Colombia', 10), ('Slovenia', 9), ('Ecuador', 9), ('Israel', 9), ('Saudi Arabia', 9), ('Ireland', 9), ('Bahrain', 9), ('Pakistan', 8), ('Moldova', 8), ('Nepal', 8), ('Montenegro', 8), ('Kazakhstan', 8), ('Cuba', 8), ('Bolivia', 7), ('Tunisia', 7), ('Costa Rica', 7), ('Iran', 7), ('Qatar', 7), ('French Guiana', 7), ('Hungary', 7), ('Saint Pierre and Miquelon', 6), ('China', 6), ('New Zealand', 6), ('Faroe Islands', 6), ('Argentina', 6), ('Togo', 6), ('Laos', 6), ('North Korea', 6), ('Belize', 5), ('Albania', 5), ('El Salvador', 5), ('Gambia The', 5), ('Puerto Rico', 5), ('Cambodia', 5), ('Slovakia', 5), ('Suriname', 5), ('Armenia', 5), (\"Cote D'Ivoire (Ivory Coast)\", 5), ('Russia', 5), ('Cameroon', 4), ('Macau S.A.R.', 4), ('Christmas Island', 4), ('Canada', 4), ('Kyrgyzstan', 4), ('Guatemala', 4), ('Morocco', 4), ('Congo', 4), ('Estonia', 4), ('Turkey', 4), ('Bhutan', 4), ('Nigeria', 4), ('Aruba', 4), ('Serbia', 4), ('Finland', 4), ('Equatorial Guinea', 3), ('South Africa', 3), ('Bosnia and Herzegovina', 3), ('Thailand', 3), ('Reunion', 3), ('Lithuania', 3), ('Swaziland', 3), ('Aland Islands', 3), ('Burkina Faso', 3), ('Lebanon', 3), ('Panama', 3), ('North Macedonia', 3), ('Bonaire, Sint Eustatius and Saba', 3), ('Norway', 3), ('Australia', 3), ('Croatia', 2), ('New Caledonia', 2), ('Indonesia', 2), ('Norfolk Island', 2), ('Vietnam', 2), ('Jordan', 2), ('Guinea', 2), ('Rwanda', 2), ('Tokelau', 2), ('Cyprus', 2), ('Eritrea', 2), ('Benin', 1), ('Tanzania', 1), ('Sierra Leone', 1), ('Honduras', 1), ('Madagascar', 1), ('Azerbaijan', 1), ('Jamaica', 1), ('Ethiopia', 1), ('Syria', 1), ('Ghana', 1), ('Lesotho', 1), ('Falkland Islands', 1), ('Latvia', 1), ('Oman', 1), ('Mauritania', 1), ('Guadeloupe', 1), ('Chad', 1), ('Western Sahara', 1), ('Trinidad And Tobago', 1)]\n"
     ]
    }
   ],
   "source": [
    "print(sorted(countries.items(), key=lambda x:x[1], reverse=True))"
   ]
  },
  {
   "cell_type": "code",
   "execution_count": 12,
   "id": "613279f5-ad4b-49f1-9537-e8dbf975abad",
   "metadata": {},
   "outputs": [
    {
     "name": "stdout",
     "output_type": "stream",
     "text": [
      "[('Africa', 8420), ('Asia', 1587), ('Europe', 1580), ('Americas', 556), ('Oceania', 19)]\n"
     ]
    }
   ],
   "source": [
    "print(sorted(regions.items(), key=lambda x:x[1], reverse=True))"
   ]
  },
  {
   "cell_type": "code",
   "execution_count": 8,
   "id": "281af02d-ba89-4e8a-b3a3-1d5449ef7b01",
   "metadata": {
    "tags": []
   },
   "outputs": [
    {
     "name": "stdout",
     "output_type": "stream",
     "text": [
      "12162\n"
     ]
    }
   ],
   "source": [
    "print(sum(regions.values()))"
   ]
  },
  {
   "cell_type": "code",
   "execution_count": 9,
   "id": "9b38234d-5eb6-407d-88d1-13400f242d78",
   "metadata": {
    "tags": []
   },
   "outputs": [
    {
     "name": "stdout",
     "output_type": "stream",
     "text": [
      "12162\n"
     ]
    }
   ],
   "source": [
    "print(sum(countries.values()))"
   ]
  },
  {
   "cell_type": "code",
   "execution_count": null,
   "id": "3fffb1a6-26b1-45f0-9c6d-76d7161c7157",
   "metadata": {},
   "outputs": [],
   "source": []
  }
 ],
 "metadata": {
  "kernelspec": {
   "display_name": "webapp_okw",
   "language": "python",
   "name": "webapp_okw"
  },
  "language_info": {
   "codemirror_mode": {
    "name": "ipython",
    "version": 3
   },
   "file_extension": ".py",
   "mimetype": "text/x-python",
   "name": "python",
   "nbconvert_exporter": "python",
   "pygments_lexer": "ipython3",
   "version": "3.10.9"
  }
 },
 "nbformat": 4,
 "nbformat_minor": 5
}
