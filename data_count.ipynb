{
 "cells": [
  {
   "cell_type": "markdown",
   "id": "31d8ced8-ae7a-4307-b28a-18579fa72514",
   "metadata": {},
   "source": [
    "<img src=\"https://pbs.twimg.com/profile_images/1092394418135539713/eplLRcDN_400x400.jpg\" width=80px style=\"text-align:right\"><h1>The Internet of Production Alliance </h1>\n",
    "\n",
    "## Data collection program for the [OKW, Map of facilities](https://www.internetofproduction.org/open-know-where)\n"
   ]
  },
  {
   "cell_type": "markdown",
   "id": "5857e0f3-5b93-4aca-987e-0ee90827c8bc",
   "metadata": {
    "tags": []
   },
   "source": [
    "Author: Antonio de Jesus Anaya Hernandez, DevOps eng. for the IoPA.\n",
    "\n",
    "Author: The internet of Production Alliance, 2024.\n",
    "\n",
    "Data was collected by: \n",
    "\n",
    "1. \"The Fab Foundation, FabLab Network and its partners\", URL location: https://api.fablabs.io/0/labs.json\n",
    "2. \"Make Works, FabLab Barcelona and its partners\", URL location: https://make.works/companies\n",
    "3. \"Offene Werkstaetten, and its partners\", URL location: https://www.offene-werkstaetten.org/de/werkstatt-suche\n",
    "4. \"Field Ready Inc. and its partners\", URL location: sftp://acc1079413848@access804698569.webspace-data.io/raw_fieldready_input_2022.csv\n",
    "\n",
    "The Open Know Where (OKW) Initiative is part of the Internet of Production Alliance and its members.\n",
    "\n",
    "License: CC BY SA\n",
    "\n",
    "![CC BY SA](https://mirrors.creativecommons.org/presskit/buttons/88x31/svg/by-sa.svg)\n",
    "\n",
    "Description: Python code reading the processed IOPA data, determine the country and region by reversed geocoding, and count the total records.\n",
    "\n",
    "Rev 0, 01/16/2024"
   ]
  },
  {
   "cell_type": "code",
   "execution_count": 1,
   "id": "1dea2990-b539-48d1-b33c-521933db2b17",
   "metadata": {
    "tags": []
   },
   "outputs": [],
   "source": [
    "import pandas as pd\n",
    "import math"
   ]
  },
  {
   "cell_type": "code",
   "execution_count": 2,
   "id": "93ee3864-0af8-40a5-b4e2-4964017c50e6",
   "metadata": {
    "tags": []
   },
   "outputs": [],
   "source": [
    "countries_geo = pd.read_csv('countries.csv')\n",
    "# on later version this line will be replaced by a data validation and normalization data output csv file.\n",
    "sources = ['iopa_fablabsio_output_2023_11_30_0850.csv', 'iopa_make_works_output_2023_11_30_0625.csv', 'iopa_offene_output_2023_11_30_0306.csv', 'raw_fieldready_input_2022']"
   ]
  },
  {
   "cell_type": "code",
   "execution_count": 3,
   "id": "bd88bc9b-26b4-4e86-84a7-a74be7952b89",
   "metadata": {
    "tags": []
   },
   "outputs": [],
   "source": [
    "regions = {}\n",
    "countries = {}\n",
    "points = {}"
   ]
  },
  {
   "cell_type": "code",
   "execution_count": 4,
   "id": "e26a23a5-de79-4e28-ba23-e106397cc6d1",
   "metadata": {
    "tags": []
   },
   "outputs": [],
   "source": [
    "for file in sources:\n",
    "    points[file] = pd.read_csv(file).dropna(subset = ['latitude', 'longitude'])\n",
    "\n",
    "def d(x1, y1, x2, y2):\n",
    "    return math.sqrt((x2 - x1)**2 + (y2 - y1)**2)"
   ]
  },
  {
   "cell_type": "code",
   "execution_count": 5,
   "id": "ff94032b-ca1a-42c9-8f90-4587d37aaa26",
   "metadata": {
    "tags": []
   },
   "outputs": [
    {
     "name": "stdout",
     "output_type": "stream",
     "text": [
      "(1879, 15)\n",
      "{'Europe': 845, 'Asia': 367, 'Americas': 555, 'Africa': 93, 'Oceania': 19}\n",
      "1879\n",
      "(303, 14)\n",
      "{'Europe': 1098, 'Asia': 416, 'Americas': 556, 'Africa': 93, 'Oceania': 19}\n",
      "2182\n",
      "(482, 11)\n",
      "{'Europe': 1580, 'Asia': 416, 'Americas': 556, 'Africa': 93, 'Oceania': 19}\n",
      "2664\n",
      "(9498, 65)\n",
      "{'Europe': 1580, 'Asia': 1587, 'Americas': 556, 'Africa': 8420, 'Oceania': 19}\n",
      "12162\n"
     ]
    }
   ],
   "source": [
    "for file in points.values():\n",
    "    print(file.shape)\n",
    "    for key, record in file.iterrows():\n",
    "        dr = float('inf')\n",
    "        \n",
    "        for ckey, country in countries_geo.iterrows():\n",
    "            dn = d(record['latitude'], record['longitude'], country['latitude'], country['longitude'])\n",
    "\n",
    "            if dn < dr:\n",
    "                dr = dn\n",
    "                region = country['region']\n",
    "                country_name = country['name']\n",
    "            else:\n",
    "                dr = dr\n",
    "                region = region\n",
    "                country_name = country_name\n",
    "        try:\n",
    "            countries[country_name] += 1\n",
    "        except KeyError:\n",
    "            if not country_name == None:\n",
    "                countries[country_name] = 1\n",
    "            \n",
    "        try:\n",
    "            regions[region] += 1\n",
    "        except KeyError:\n",
    "            if not region == None:\n",
    "                regions[region] = 1\n",
    "\n",
    "                \n",
    "    print(regions)\n",
    "    print(sum(regions.values()))"
   ]
  },
  {
   "cell_type": "code",
   "execution_count": 6,
   "id": "0000ec32-3ee3-476e-9d30-dc56a672e385",
   "metadata": {
    "tags": []
   },
   "outputs": [
    {
     "name": "stdout",
     "output_type": "stream",
     "text": [
      "{'Switzerland': 63, 'Jersey': 27, 'Croatia': 2, 'Palestinian Territory Occupied': 13, 'Sri Lanka': 25, 'Pakistan': 8, 'Paraguay': 102, 'The Bahamas': 23, 'Iceland': 15, 'Peru': 34, 'Cameroon': 4, 'Hong Kong S.A.R.': 10, 'Equatorial Guinea': 3, 'Belgium': 81, 'Netherlands': 50, 'Spain': 29, 'Philippines': 26, 'Monaco': 47, 'France': 60, 'Japan': 16, 'Italy': 13, 'United States': 128, 'Bolivia': 7, 'Bangladesh': 1049, 'Brazil': 18, 'Liechtenstein': 74, 'New Caledonia': 2, 'Moldova': 8, 'Belize': 5, 'Saint Pierre and Miquelon': 6, 'India': 22, 'Slovenia': 9, 'Macau S.A.R.': 4, 'Georgia': 37, 'Czech Republic': 139, 'United Kingdom': 99, 'Poland': 11, 'Egypt': 18, 'Nepal': 8, 'Greece': 12, 'Austria': 73, 'Bermuda': 59, 'Portugal': 29, 'Uruguay': 22, 'South Africa': 3, 'Germany': 192, 'Chile': 18, 'Andorra': 68, 'Ukraine': 21, 'Bosnia and Herzegovina': 3, 'Denmark': 68, 'Christmas Island': 4, 'United Arab Emirates': 56, 'Bulgaria': 15, 'Benin': 1, 'Guernsey and Alderney': 13, 'Thailand': 3, 'Luxembourg': 61, 'Reunion': 3, 'Montenegro': 8, 'China': 6, 'South Korea': 43, 'Tunisia': 7, 'Ecuador': 9, 'New Zealand': 6, 'Mexico': 49, 'San Marino': 33, 'Kenya': 1595, 'Albania': 5, 'Indonesia': 2, 'Canada': 4, 'Vatican City State (Holy See)': 31, 'Israel': 9, 'Kazakhstan': 8, 'Tanzania': 1, 'Uganda': 6708, 'Kuwait': 19, 'Kyrgyzstan': 4, 'Gibraltar': 11, 'Cuba': 8, 'Saudi Arabia': 9, 'Guatemala': 4, 'Malta': 15, 'Faroe Islands': 6, 'Sierra Leone': 1, 'Ireland': 9, 'Honduras': 1, 'Lithuania': 3, 'Bahrain': 9, 'Norfolk Island': 2, 'Morocco': 4, 'Madagascar': 1, 'El Salvador': 5, 'Congo': 4, 'Singapore': 11, 'Swaziland': 3, 'Estonia': 4, 'Turkey': 4, 'Gambia The': 5, 'Azerbaijan': 1, 'Puerto Rico': 5, 'Costa Rica': 7, 'Aland Islands': 3, 'Burkina Faso': 3, 'Bhutan': 4, 'Iran': 7, 'Man (Isle of)': 136, 'Colombia': 10, 'Lebanon': 3, 'Cambodia': 5, 'Argentina': 6, 'Panama': 3, 'Iraq': 114, 'Togo': 6, 'Vietnam': 2, 'Qatar': 7, 'North Macedonia': 3, 'Laos': 6, 'Jamaica': 1, 'Ethiopia': 1, 'North Korea': 6, 'Syria': 1, 'Slovakia': 5, 'Taiwan': 22, 'Nigeria': 4, 'Suriname': 5, 'Armenia': 5, \"Cote D'Ivoire (Ivory Coast)\": 5, 'Ghana': 1, 'Jordan': 2, 'Lesotho': 1, 'Falkland Islands': 1, 'Aruba': 4, 'Bonaire, Sint Eustatius and Saba': 3, 'Guinea': 2, 'Serbia': 4, 'Rwanda': 2, 'French Guiana': 7, 'Norway': 3, 'Finland': 4, 'Djibouti': 29, 'Latvia': 1, 'Australia': 3, 'Tokelau': 2, 'Oman': 1, 'Cyprus': 2, 'Hungary': 7, 'Mauritania': 1, 'Eritrea': 2, 'Russia': 5, 'Guadeloupe': 1, 'Chad': 1, 'Western Sahara': 1, 'Trinidad And Tobago': 1}\n"
     ]
    }
   ],
   "source": [
    "print(countries)"
   ]
  },
  {
   "cell_type": "code",
   "execution_count": 7,
   "id": "613279f5-ad4b-49f1-9537-e8dbf975abad",
   "metadata": {},
   "outputs": [
    {
     "name": "stdout",
     "output_type": "stream",
     "text": [
      "{'Europe': 1580, 'Asia': 1587, 'Americas': 556, 'Africa': 8420, 'Oceania': 19}\n"
     ]
    }
   ],
   "source": [
    "print(regions)"
   ]
  },
  {
   "cell_type": "code",
   "execution_count": 8,
   "id": "281af02d-ba89-4e8a-b3a3-1d5449ef7b01",
   "metadata": {
    "tags": []
   },
   "outputs": [
    {
     "name": "stdout",
     "output_type": "stream",
     "text": [
      "12162\n"
     ]
    }
   ],
   "source": [
    "print(sum(regions.values()))"
   ]
  },
  {
   "cell_type": "code",
   "execution_count": 9,
   "id": "9b38234d-5eb6-407d-88d1-13400f242d78",
   "metadata": {
    "tags": []
   },
   "outputs": [
    {
     "name": "stdout",
     "output_type": "stream",
     "text": [
      "12162\n"
     ]
    }
   ],
   "source": [
    "print(sum(countries.values()))"
   ]
  },
  {
   "cell_type": "code",
   "execution_count": null,
   "id": "3fffb1a6-26b1-45f0-9c6d-76d7161c7157",
   "metadata": {},
   "outputs": [],
   "source": []
  }
 ],
 "metadata": {
  "kernelspec": {
   "display_name": "webapp_okw",
   "language": "python",
   "name": "webapp_okw"
  },
  "language_info": {
   "codemirror_mode": {
    "name": "ipython",
    "version": 3
   },
   "file_extension": ".py",
   "mimetype": "text/x-python",
   "name": "python",
   "nbconvert_exporter": "python",
   "pygments_lexer": "ipython3",
   "version": "3.10.9"
  }
 },
 "nbformat": 4,
 "nbformat_minor": 5
}
